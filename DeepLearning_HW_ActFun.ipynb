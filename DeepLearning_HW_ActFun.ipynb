{
  "nbformat": 4,
  "nbformat_minor": 0,
  "metadata": {
    "colab": {
      "name": "DeepLearning_HW_ActFun.ipynb",
      "version": "0.3.2",
      "provenance": [],
      "collapsed_sections": [],
      "include_colab_link": true
    },
    "kernelspec": {
      "name": "python3",
      "display_name": "Python 3"
    },
    "accelerator": "GPU"
  },
  "cells": [
    {
      "cell_type": "markdown",
      "metadata": {
        "id": "view-in-github",
        "colab_type": "text"
      },
      "source": [
        "<a href=\"https://colab.research.google.com/github/kovandras/ActFun/blob/master/DeepLearning_HW_ActFun.ipynb\" target=\"_parent\"><img src=\"https://colab.research.google.com/assets/colab-badge.svg\" alt=\"Open In Colab\"/></a>"
      ]
    },
    {
      "metadata": {
        "id": "QtXge4dgxISZ",
        "colab_type": "text"
      },
      "cell_type": "markdown",
      "source": [
        "#Multiple gated activation function \n",
        "###Deep learning Homework ActFun\n",
        "\n",
        "This homework's topic has been discussed with dr. Gyires-Tóth Bálint.\n",
        "\n",
        "The topic of this homework is to evaluate the effectiveness of a new type of activation function which is a superposition of previously established activation functions (tanh, relu, sigmoid...) with learnable weights. From now on referred to as WSGAF (Weighted Superposition Gated Function)\n",
        "\n",
        "![Weighted superposition gated activation function](https://i.imgur.com/QF58qzV.png)\n",
        "\n",
        "We expect this new method to outperform previous heuristics to determine the best activation to use in a certain layer, because this method gets rid of this hyperparameter for every layer and makes the network learn it for itself.\n",
        "\n",
        "We will evaluate two ways to do this. The first method (WSGAF-1) is to use separate weights for each neuron. (This method should provide more flexibility for the network, but is also expected to substantially increase learning times, because of the extra weights.)\n",
        "The second method (WSGAF-2) uses the same weights per layer. (This format is similar to existing structures)\n",
        "\n",
        "## Previous works\n",
        "\n",
        "We have not found any previous implementation of this idea, however success has been achieved with a similar self-gated activation function [arXiv:1710.05941 [cs.NE]](https://arxiv.org/abs/1710.05941). \n",
        "\n",
        "##Evaluation\n",
        "\n",
        "To evaluate this method, we are going to use a simple six-layer convolutional network (784-50-100-500-1000-10-10) on the MNIST database and Inception ResNet-v2 with CIFAR-10 dataset. These networks cover a wide range of layer types including Convolution, AvgPool, MaxPool, Concat, Dropout, FullyConnected, SoftMax. First, we are going to determine baseline performance of these networks by training them with nominal hyperparameter settings, then we are going to replace all of the activation function in these networks with WSGAF-1/2.\n",
        "\n",
        "We are going to compare the resulting: \n",
        "\n",
        "*   Training time\n",
        "*   Performance after a fix number of epochs\n",
        "\n",
        "for each version of both networks.\n",
        "Even if our results are on par with the baseline scores, our method will be considered preferable to other activation functions, because this method decreases the hyperparameter search space. \n",
        "\n",
        "\n",
        "\n",
        "\n"
      ]
    },
    {
      "metadata": {
        "id": "AXKCRvXP7O4J",
        "colab_type": "code",
        "colab": {
          "base_uri": "https://localhost:8080/",
          "height": 35
        },
        "outputId": "e8d83b72-cdf3-4131-e9b4-2e508d611ebc"
      },
      "cell_type": "code",
      "source": [
        "from tensorflow.contrib.slim.nets import resnet_v2\n",
        "import tensorflow as tf\n",
        "from keras.utils import np_utils"
      ],
      "execution_count": 1,
      "outputs": [
        {
          "output_type": "stream",
          "text": [
            "Using TensorFlow backend.\n"
          ],
          "name": "stderr"
        }
      ]
    },
    {
      "metadata": {
        "id": "zyDi9-FBHYHl",
        "colab_type": "code",
        "colab": {
          "base_uri": "https://localhost:8080/",
          "height": 54
        },
        "outputId": "541bbfe3-8fbe-42cc-8b1a-2334ed9b8cac"
      },
      "cell_type": "code",
      "source": [
        "#MNIST dataset preprocessing\n",
        "\n",
        "from keras.datasets import mnist\n",
        "\n",
        "\n",
        "(x_train_valid_mnist, y_train_valid_mnist), (x_test_mnist, y_test_mnist) = mnist.load_data()\n",
        "mnist_valid_split = 0.2\n",
        "\n",
        "nb_mnist_samples = x_train_valid_mnist.shape[0]\n",
        "# split input data into train and validation sets\n",
        "x_train_mnist = x_train_valid_mnist[0:int(nb_mnist_samples*(1-mnist_valid_split))]\n",
        "x_valid_mnist = x_train_valid_mnist[int(nb_mnist_samples*(1-mnist_valid_split)):]\n",
        "\n",
        "# split output data into train and validation sets\n",
        "y_train_mnist = y_train_valid_mnist[0:int(nb_mnist_samples*(1-mnist_valid_split))]\n",
        "y_valid_mnist = y_train_valid_mnist[int(nb_mnist_samples*(1-mnist_valid_split)):]\n",
        "\n",
        "# we do this so we can fill the data into a simple regression model, for a baseline evaluation\n",
        "x_train_mnist = x_train_mnist.reshape(-1, 784)\n",
        "x_valid_mnist = x_valid_mnist.reshape(-1, 784)\n",
        "x_test_mnist = x_test_mnist.reshape(-1, 784)\n",
        "\n",
        "x_train_mnist = x_train_mnist.astype('float32')\n",
        "x_valid_mnist = x_valid_mnist.astype('float32')\n",
        "x_test_mnist = x_test_mnist.astype('float32')\n",
        "\n",
        "# 0..1 values\n",
        "x_train_mnist = x_train_mnist/255\n",
        "x_valid_mnist = x_valid_mnist/255\n",
        "x_test_mnist = x_test_mnist/255\n",
        "\n",
        "y_train_mnist = y_train_mnist.reshape(-1, 1)\n",
        "y_valid_mnist = y_valid_mnist.reshape(-1, 1)\n",
        "y_test_mnist = y_test_mnist.reshape(-1, 1)\n",
        "\n",
        "\n",
        "#Convert output to one-hot coding\n",
        "y_train_mnist = np_utils.to_categorical(y_train_mnist, 10)\n",
        "y_valid_mnist = np_utils.to_categorical(y_valid_mnist, 10)\n",
        "y_test_mnist = np_utils.to_categorical(y_test_mnist, 10)"
      ],
      "execution_count": 2,
      "outputs": [
        {
          "output_type": "stream",
          "text": [
            "Downloading data from https://s3.amazonaws.com/img-datasets/mnist.npz\n",
            "11493376/11490434 [==============================] - 1s 0us/step\n"
          ],
          "name": "stdout"
        }
      ]
    },
    {
      "metadata": {
        "id": "Q7cWJxBH7P_F",
        "colab_type": "code",
        "colab": {
          "base_uri": "https://localhost:8080/",
          "height": 321
        },
        "outputId": "7cbb3ddb-50e6-44de-9748-43f153a4e1ce"
      },
      "cell_type": "code",
      "source": [
        "#CIFAR-10\n",
        "from tensorflow.contrib.slim.nets import resnet_v2\n",
        "import tensorflow as tf\n",
        "from keras.utils import np_utils\n",
        "from keras.datasets import cifar10\n",
        "\n",
        "(x_train_valid_cifar10, y_train_valid_cifar10), (x_test_cifar10, y_test_cifar10) = cifar10.load_data()\n",
        "cifar10_valid_split = 0.2\n",
        "\n",
        "nb_cifar10_samples = x_train_valid_cifar10.shape[0]\n",
        "# split input data into train and validation sets\n",
        "x_train_cifar10 = x_train_valid_cifar10[0:int(nb_cifar10_samples*(1-cifar10_valid_split))]\n",
        "x_valid_cifar10 = x_train_valid_cifar10[int(nb_cifar10_samples*(1-cifar10_valid_split)):]\n",
        "\n",
        "# split output data into train and validation sets\n",
        "y_train_cifar10 = y_train_valid_cifar10[0:int(nb_cifar10_samples*(1-cifar10_valid_split))]\n",
        "y_valid_cifar10 = y_train_valid_cifar10[int(nb_cifar10_samples*(1-cifar10_valid_split)):]\n",
        "\n",
        "# x_train_cifar10 = x_train_cifar10.astype('float32')\n",
        "# x_valid_cifar10 = x_valid_cifar10.astype('float32')\n",
        "# x_test_cifar10 = x_test_cifar10.astype('float32')\n",
        "\n",
        "# this is done in tf when passing the image to the network\n",
        "# x_train_cifar10 = x_train_cifar10/255\n",
        "# x_valid_cifar10 = x_valid_cifar10/255\n",
        "# x_test_cifar10 = x_test_cifar10/255\n",
        "\n",
        "\n",
        "#Convert output to one-hot coding\n",
        "y_train_cifar10 = np_utils.to_categorical(y_train_cifar10, 10)\n",
        "y_valid_cifar10 = np_utils.to_categorical(y_valid_cifar10, 10)\n",
        "y_test_cifar10 = np_utils.to_categorical(y_test_cifar10, 10)\n",
        "cifar10_category_strings = ['Airplane', 'Automobile', 'Bird', 'Cat', 'Deer', 'Dog', 'Frog', 'Horse', 'Ship', 'Truck']\n",
        "\n",
        "# show a sample image with it's category\n",
        "import numpy as np \n",
        "import math\n",
        "import matplotlib as mp\n",
        "%matplotlib inline\n",
        "import matplotlib.pyplot as plt\n",
        "\n",
        "plt.imshow(np.reshape(x_train_cifar10[100],[32,32,3]))\n",
        "print(cifar10_category_strings[np.argmax(y_train_cifar10[100])])"
      ],
      "execution_count": 3,
      "outputs": [
        {
          "output_type": "stream",
          "text": [
            "Downloading data from https://www.cs.toronto.edu/~kriz/cifar-10-python.tar.gz\n",
            "170500096/170498071 [==============================] - 43s 0us/step\n",
            "Ship\n"
          ],
          "name": "stdout"
        },
        {
          "output_type": "display_data",
          "data": {
            "image/png": "[encoded data removed]",
            "text/plain": [
              "<matplotlib.figure.Figure at 0x7f6de7926ef0>"
            ]
          },
          "metadata": {
            "tags": []
          }
        }
      ]
    },
    {
      "metadata": {
        "id": "TPKd45CXR_gE",
        "colab_type": "code",
        "colab": {
          "base_uri": "https://localhost:8080/",
          "height": 256
        },
        "outputId": "d26988c5-654d-459d-be01-10ff2a53ae1f"
      },
      "cell_type": "code",
      "source": [
        "!pip install tflearn"
      ],
      "execution_count": 4,
      "outputs": [
        {
          "output_type": "stream",
          "text": [
            "Collecting tflearn\n",
            "\u001b[?25l  Downloading https://files.pythonhosted.org/packages/16/ec/e9ce1b52e71f6dff3bd944f020cef7140779e783ab27512ea7c7275ddee5/tflearn-0.3.2.tar.gz (98kB)\n",
            "\r\u001b[K    10% |███▎                            | 10kB 16.7MB/s eta 0:00:01\r\u001b[K    20% |██████▋                         | 20kB 4.6MB/s eta 0:00:01\r\u001b[K    31% |██████████                      | 30kB 6.5MB/s eta 0:00:01\r\u001b[K    41% |█████████████▎                  | 40kB 4.1MB/s eta 0:00:01\r\u001b[K    51% |████████████████▋               | 51kB 5.0MB/s eta 0:00:01\r\u001b[K    62% |████████████████████            | 61kB 5.9MB/s eta 0:00:01\r\u001b[K    72% |███████████████████████▎        | 71kB 6.6MB/s eta 0:00:01\r\u001b[K    83% |██████████████████████████▋     | 81kB 7.3MB/s eta 0:00:01\r\u001b[K    93% |██████████████████████████████  | 92kB 8.1MB/s eta 0:00:01\r\u001b[K    100% |████████████████████████████████| 102kB 7.7MB/s \n",
            "\u001b[?25hRequirement already satisfied: numpy in /usr/local/lib/python3.6/dist-packages (from tflearn) (1.14.6)\n",
            "Requirement already satisfied: six in /usr/local/lib/python3.6/dist-packages (from tflearn) (1.11.0)\n",
            "Requirement already satisfied: Pillow in /usr/local/lib/python3.6/dist-packages (from tflearn) (4.0.0)\n",
            "Requirement already satisfied: olefile in /usr/local/lib/python3.6/dist-packages (from Pillow->tflearn) (0.46)\n",
            "Building wheels for collected packages: tflearn\n",
            "  Running setup.py bdist_wheel for tflearn ... \u001b[?25l-\b \b\\\b \bdone\n",
            "\u001b[?25h  Stored in directory: /root/.cache/pip/wheels/d0/f6/69/0ef3ee395aac2e5d15d89efd29a9a216f3c27767b43b72c006\n",
            "Successfully built tflearn\n",
            "Installing collected packages: tflearn\n",
            "Successfully installed tflearn-0.3.2\n"
          ],
          "name": "stdout"
        }
      ]
    },
    {
      "metadata": {
        "id": "S3yDS0xX4Kad",
        "colab_type": "text"
      },
      "cell_type": "markdown",
      "source": [
        "# New references\n",
        "\n",
        "Since the last milestone, we were able to find more references dealing with this type of activation function.\n",
        "These are:\n",
        "\n",
        "\n",
        "*  2016 blog post about [Parametric Activation Pools](http://webcache.googleusercontent.com/search?q=cache:VsVFOe6TAM0J:blog.claymcleod.io/2016/02/06/Parametric-Activation-Pools-greatly-increase-performance-and-consistency-in-ConvNets/+&cd=2&hl=en&ct=clnk&gl=hu&client=firefox-b-ab)\n",
        "*   SoftExp paper: [A continuum among logarithmic, linear, and exponential functions, and its potential to improve generalization in neural networks](https://arxiv.org/pdf/1602.01321.pdf)\n",
        "*   [Keras implementation](https://github.com/keras-team/keras/issues/3842) of SoftExp\n",
        "*  [A Neural Transfer Function for a Smooth and Differentiable Transition Between Additive and Multiplicative Interactions](https://arxiv.org/pdf/1503.05724v2.pdf)\n",
        "*  Gradnets paper: [Dynamic Interpolation Between Neural Architectures](https://arxiv.org/pdf/1511.06827.pdf)"
      ]
    },
    {
      "metadata": {
        "id": "h7kjZ7QlF-og",
        "colab_type": "code",
        "colab": {}
      },
      "cell_type": "code",
      "source": [
        "# implement the WSGAF\n",
        "\n",
        "import tflearn\n",
        "import tflearn.variables as va\n",
        "\n",
        "def WSGAF(x, channel_shared=False, weights_init='normal', restore=True, name=\"WSGAF\"):\n",
        "    # this is based on tensorflow PReLU implementation: https://github.com/tflearn/tflearn/blob/4ba8c8d78bf1bbdfc595bf547bad30580cb4c20b/tflearn/activations.py#L191 \n",
        "    \"\"\" WSGAF.\n",
        "    Weighted Superposition of Gated Activation Functions.\n",
        "    Arguments:\n",
        "        x: A `Tensor` with type `float`, `double`, `int32`, `int64`, `uint8`,\n",
        "            `int16`, or `int8`.\n",
        "        channel_shared: `bool`. Single weight is shared by all channels\n",
        "        weights_init: `str`. Weights initialization. Default: zeros.\n",
        "        restore: `bool`. Restore or not alphas\n",
        "        name: A name for this activation op (optional).\n",
        "    Attributes:\n",
        "        scope: `str`. This op scope.\n",
        "        alphas: `Variable`. ReLU weights.\n",
        "        betas: `Variable`. Tanh weights.\n",
        "        gammas: `Variable`. Sigmoid weights.\n",
        "    Returns:\n",
        "        A `Tensor` with the same type as `x`.\n",
        "    \"\"\"\n",
        "    if channel_shared:\n",
        "        w_shape = (1,)\n",
        "    else:\n",
        "        w_shape = tflearn.utils.get_incoming_shape(x)[-1:]\n",
        "\n",
        "    # If incoming Tensor has a scope, this op is defined inside it\n",
        "    i_scope = \"\"\n",
        "    if hasattr(x, 'scope'):\n",
        "        if x.scope: i_scope = x.scope\n",
        "    with tf.name_scope(i_scope + name) as scope:\n",
        "        W_init = tflearn.initializations.get(weights_init)()\n",
        "        alphas = va.variable(shape=w_shape, initializer=tflearn.initializations.normal(mean=0.0, stddev=0.5), restore=restore, name=scope + \"alphas\") # relu  tflearn.initializations.normal(mean=1.0, stddev=0.02)\n",
        "        betas = va.variable(shape=w_shape, initializer=tflearn.initializations.normal(mean=0.0, stddev=0.5), restore=restore, name=scope + \"betas\")   # tanh\n",
        "        gammas = va.variable(shape=w_shape, initializer=tflearn.initializations.normal(mean=0.0, stddev=0.5), restore=restore, name=scope + \"gammas\") # sigmoid   tflearn.initializations.get(\"zeros\")()\n",
        "\n",
        "        x = tf.multiply(alphas, tf.nn.relu(x)) + tf.multiply(betas, tf.nn.tanh(x)) + tf.multiply(gammas, tf.nn.sigmoid(x))\n",
        "\n",
        "    x.scope = scope\n",
        "    x.alphas = alphas\n",
        "    x.betas = betas\n",
        "    x.gammas = gammas\n",
        "\n",
        "    return x"
      ],
      "execution_count": 0,
      "outputs": []
    },
    {
      "metadata": {
        "id": "DrGKPWaezJLg",
        "colab_type": "text"
      },
      "cell_type": "markdown",
      "source": [
        "# Debug test on XOR problem\n",
        "\n",
        "In the following sections we test WSGAF on a simple XOR problem to verify learning capabilities."
      ]
    },
    {
      "metadata": {
        "id": "tBmuiRQ-Vp7-",
        "colab_type": "code",
        "colab": {
          "base_uri": "https://localhost:8080/",
          "height": 266
        },
        "outputId": "4c29865f-5bc8-49ad-c81f-241f8b8ae142"
      },
      "cell_type": "code",
      "source": [
        "import numpy as np\n",
        "from sklearn import preprocessing\n",
        "import matplotlib.pyplot as plt\n",
        "%matplotlib inline\n",
        "\n",
        "nb_samples=20000\n",
        "valid_split = 0.2\n",
        "test_split = 0.1\n",
        "samples=np.zeros(nb_samples, dtype=[('input', float, 2), ('output', float, 1)])\n",
        "for i in range(0,nb_samples,4):\n",
        "    noise = np.random.normal(0,1,8)\n",
        "    samples[i] = (-2+noise[0],-2+noise[1]), 0\n",
        "    samples[i+1] = (2+noise[2],-2+noise[3]), 1\n",
        "    samples[i+2] = (-2+noise[4],2+noise[5]), 1\n",
        "    samples[i+3] = (2+noise[6],2+noise[7]), 0\n",
        "\n",
        "fig1=plt.figure()\n",
        "plt.scatter(samples['input'][:,0],samples['input'][:,1],c=samples['output'][:], cmap=plt.cm.cool)\n",
        "\n",
        "samples_train = samples[0:int(nb_samples*(1-valid_split-test_split))]\n",
        "samples_valid = samples[int(nb_samples*(1-valid_split-test_split)):int(nb_samples*(1-test_split))]\n",
        "samples_test  = samples[int(nb_samples*(1-test_split)):]\n",
        "    \n",
        "# standardise\n",
        "scaler = preprocessing.StandardScaler().fit(samples_train['input'])\n",
        "samples_train['input'] = scaler.transform(samples_train['input'])\n",
        "samples_valid['input'] = scaler.transform(samples_valid['input'])\n",
        "samples_test['input'] = scaler.transform(samples_test['input'])"
      ],
      "execution_count": 6,
      "outputs": [
        {
          "output_type": "display_data",
          "data": {
            "image/png": "[encoded data removed]",
            "text/plain": [
              "<matplotlib.figure.Figure at 0x7f6e3d79dd30>"
            ]
          },
          "metadata": {
            "tags": []
          }
        }
      ]
    },
    {
      "metadata": {
        "id": "gvXT9qpyLc9b",
        "colab_type": "code",
        "colab": {
          "base_uri": "https://localhost:8080/",
          "height": 834
        },
        "outputId": "9cfb88b9-d194-4d45-b125-94f72e18101d"
      },
      "cell_type": "code",
      "source": [
        "# We create a simple model to fit the XOR problem\n",
        "\n",
        "tf.reset_default_graph()\n",
        "sess_xor = tf.Session()\n",
        "\n",
        "\n",
        "\n",
        "x = tf.placeholder(tf.float32, shape=[None, 2])\n",
        "y_ = tf.placeholder(tf.float32, shape=[None, 1])\n",
        "\n",
        "# Shorthand methods for variable declaration\n",
        "def weight_variable(shape):\n",
        "    initial = tf.truncated_normal(shape, stddev=0.1, name=\"weights\")\n",
        "    return tf.Variable(initial)\n",
        "\n",
        "def bias_variable(shape):\n",
        "    initial = tf.constant(0.1, shape=shape)\n",
        "    return tf.Variable(initial)\n",
        "\n",
        "\n",
        "# A fully connected layer\n",
        "W_fc1 = weight_variable([2, 8])\n",
        "b_fc1 = bias_variable([8])\n",
        "\n",
        "h_fc1 = WSGAF(tf.matmul(x, W_fc1) + b_fc1)\n",
        "\n",
        "# Output layer\n",
        "W_fc2 = weight_variable([8, 1])\n",
        "b_fc2 = bias_variable([1])\n",
        "\n",
        "y=WSGAF(tf.matmul(h_fc1, W_fc2) + b_fc2)\n",
        "\n",
        "\n",
        "\n",
        "\n",
        "\n",
        "\n",
        "mse =  tf.reduce_mean(tf.squared_difference(y_, y)) # cost function\n",
        "train_step = tf.train.GradientDescentOptimizer(0.1).minimize(mse) # optimizer\n",
        "\n",
        "print(samples_train['input'].shape)\n",
        "print(samples_train['output'].shape)\n",
        "xor_train_x = samples_train['input'].reshape(-1,2)\n",
        "xor_train_y = samples_train['output'].reshape(-1,1)\n",
        "\n",
        "xor_test_x = samples_test['input'].reshape(-1,2)\n",
        "xor_test_y = samples_test['output'].reshape(-1,1)\n",
        "print(xor_train_x.shape)\n",
        "print(xor_train_y.shape)\n",
        "\n",
        "sess_xor.run(tf.global_variables_initializer())\n",
        "\n",
        "batch_counter=0\n",
        "batch_size_xor = 10\n",
        "for i in range(10000): # Train network in 10000 steps\n",
        "    if i%1000 == 0:\n",
        "      train_loss = mse.eval(session=sess_xor, feed_dict={x: xor_train_x[batch_counter*batch_size_xor:(batch_counter+1)*batch_size_xor],\n",
        "                                                         y_: xor_train_y[batch_counter*batch_size_xor:(batch_counter+1)*batch_size_xor]})\n",
        "      print(\"train loss\", train_loss)\n",
        "\n",
        "    train_step.run(session=sess_xor, feed_dict={x: xor_train_x[batch_counter*batch_size_xor:(batch_counter+1)*batch_size_xor],\\\n",
        "                                                y_: xor_train_y[batch_counter*batch_size_xor:(batch_counter+1)*batch_size_xor]})\n",
        "    batch_counter=batch_counter+1\n",
        "    if (batch_counter*batch_size_xor > len(xor_train_x)):\n",
        "        batch_counter=0\n",
        "\n",
        "\n",
        "\n",
        "preds = sess_xor.run(y, feed_dict={x: xor_test_x}) # mse.eval(session=sess_xor, feed_dict={x: xor_test_x, y_: xor_test_y})\n",
        "\n",
        "import tensorflow.contrib.slim as slim\n",
        "def model_summary():\n",
        "    model_vars = tf.trainable_variables()\n",
        "    slim.model_analyzer.analyze_vars(model_vars, print_info=True)\n",
        "\n",
        "model_summary()\n",
        "\n",
        "# Error on test data\n",
        "from sklearn.metrics import mean_squared_error\n",
        "test_mse = mean_squared_error(xor_test_y,preds)\n",
        "print(\"Test MSE: %f\" % (test_mse))\n",
        "# Display predictions on test data\n",
        "fig1=plt.figure()\n",
        "plt.scatter(xor_test_x[:,0], \\\n",
        "            xor_test_x[:,1], \\\n",
        "            c=np.round(preds[:,0]), cmap=plt.cm.cool)\n"
      ],
      "execution_count": 7,
      "outputs": [
        {
          "output_type": "stream",
          "text": [
            "(14000, 2)\n",
            "(14000,)\n",
            "(14000, 2)\n",
            "(14000, 1)\n",
            "train loss 0.40856633\n",
            "train loss 0.09305374\n",
            "train loss 0.024555672\n",
            "train loss 0.040205605\n",
            "train loss 0.03644228\n",
            "train loss 0.006444494\n",
            "train loss 0.040625855\n",
            "train loss 0.048027292\n",
            "train loss 0.0074576484\n",
            "train loss 0.05931112\n",
            "---------\n",
            "Variables: name (type shape) [size]\n",
            "---------\n",
            "Variable:0 (float32_ref 2x8) [16, bytes: 64]\n",
            "Variable_1:0 (float32_ref 8) [8, bytes: 32]\n",
            "WSGAF/alphas:0 (float32_ref 8) [8, bytes: 32]\n",
            "WSGAF/betas:0 (float32_ref 8) [8, bytes: 32]\n",
            "WSGAF/gammas:0 (float32_ref 8) [8, bytes: 32]\n",
            "Variable_2:0 (float32_ref 8x1) [8, bytes: 32]\n",
            "Variable_3:0 (float32_ref 1) [1, bytes: 4]\n",
            "WSGAF_1/alphas:0 (float32_ref 1) [1, bytes: 4]\n",
            "WSGAF_1/betas:0 (float32_ref 1) [1, bytes: 4]\n",
            "WSGAF_1/gammas:0 (float32_ref 1) [1, bytes: 4]\n",
            "Total size of variables: 60\n",
            "Total bytes of variables: 240\n",
            "Test MSE: 0.035947\n"
          ],
          "name": "stdout"
        },
        {
          "output_type": "execute_result",
          "data": {
            "text/plain": [
              "<matplotlib.collections.PathCollection at 0x7f6de023e978>"
            ]
          },
          "metadata": {
            "tags": []
          },
          "execution_count": 7
        },
        {
          "output_type": "display_data",
          "data": {
            "image/png": "[encoded data removed]",
            "text/plain": [
              "<matplotlib.figure.Figure at 0x7f6de0259c88>"
            ]
          },
          "metadata": {
            "tags": []
          }
        }
      ]
    },
    {
      "metadata": {
        "id": "3dLHL7570bQa",
        "colab_type": "text"
      },
      "cell_type": "markdown",
      "source": [
        "# Baseline test on MNIST data\n",
        "\n",
        "In this section we do a simple regression on the MNIST dataset to measure baseline performance"
      ]
    },
    {
      "metadata": {
        "id": "MBz93qqwK0nF",
        "colab_type": "code",
        "colab": {}
      },
      "cell_type": "code",
      "source": [
        "# Convolutional network\n",
        "tf.reset_default_graph()\n",
        "sess = tf.Session()\n",
        "# input, output\n",
        "x = tf.placeholder(tf.float32, shape=[None, 784])\n",
        "y_ = tf.placeholder(tf.float32, shape=[None, 10])\n",
        "# wieights matrix and bias vector\n",
        "W = tf.Variable(tf.zeros([784,10]))\n",
        "b = tf.Variable(tf.zeros([10]))\n",
        "# initialise\n",
        "sess.run(tf.global_variables_initializer())\n",
        "# regression\n",
        "y = tf.nn.softmax(tf.matmul(x,W) + b)\n",
        "# cost function\n",
        "cross_entropy = tf.reduce_mean(-tf.reduce_sum(y_ * tf.log(y), reduction_indices=[1]))\n",
        "# optimization\n",
        "train_step = tf.train.GradientDescentOptimizer(0.5).minimize(cross_entropy)\n",
        "# training 1000 epoch, batch_size\n",
        "batch_counter=0\n",
        "#batch size\n",
        "batch_size=128\n",
        "for i in range(1000):\n",
        "    train_step.run(session=sess, feed_dict={x: x_train_mnist[batch_counter*batch_size:(batch_counter+1)*batch_size], y_: y_train_mnist[batch_counter*batch_size:(batch_counter+1)*batch_size]})\n",
        "    batch_counter=batch_counter+1\n",
        "    if (batch_counter*batch_size > len(x_train_mnist)):\n",
        "        batch_counter=0"
      ],
      "execution_count": 0,
      "outputs": []
    },
    {
      "metadata": {
        "id": "PrewUUNwH-4A",
        "colab_type": "code",
        "colab": {
          "base_uri": "https://localhost:8080/",
          "height": 35
        },
        "outputId": "3d557a68-717e-4fda-be4d-63bbcfd5ea43"
      },
      "cell_type": "code",
      "source": [
        "correct_prediction = tf.equal(tf.argmax(y,1), tf.argmax(y_,1))\n",
        "accuracy = tf.reduce_mean(tf.cast(correct_prediction, tf.float32))\n",
        "print(accuracy.eval(session=sess, feed_dict={x: x_test_mnist, y_: y_test_mnist}))\n",
        "\n"
      ],
      "execution_count": 9,
      "outputs": [
        {
          "output_type": "stream",
          "text": [
            "0.917\n"
          ],
          "name": "stdout"
        }
      ]
    },
    {
      "metadata": {
        "id": "FrZ9Qnnm0xId",
        "colab_type": "text"
      },
      "cell_type": "markdown",
      "source": [
        "# ReLU vs WSGAF with convolution on MNIST\n",
        "\n",
        "In the following section, we compare the performance of WSGAF to that of the ReLU activation"
      ]
    },
    {
      "metadata": {
        "id": "ykZx4laPIoEM",
        "colab_type": "code",
        "colab": {}
      },
      "cell_type": "code",
      "source": [
        "# initialise variables \n",
        "def weight_variable(shape):\n",
        "    initial = tf.truncated_normal(shape, stddev=0.1, name=\"weights\")\n",
        "    return tf.Variable(initial)\n",
        "\n",
        "def bias_variable(shape):\n",
        "    initial = tf.constant(0.1, shape=shape)\n",
        "    return tf.Variable(initial)\n",
        "\n",
        "# convolutional and max-pool layers initialization\n",
        "def conv2d(x, W, name):\n",
        "    return tf.nn.conv2d(x, W, strides=[1, 1, 1, 1], padding='SAME', name=name)\n",
        "\n",
        "def max_pool_2x2(x):\n",
        "    return tf.nn.max_pool(x, ksize=[1, 2, 2, 1],strides=[1, 2, 2, 1], padding='SAME')\n",
        "\n",
        "#batch size\n",
        "batch_size=128\n",
        "\n",
        "# building network structure\n",
        "tf.reset_default_graph()\n",
        "sess = tf.Session()\n",
        "# input, output\n",
        "x = tf.placeholder(tf.float32, shape=[None, 784])\n",
        "y_ = tf.placeholder(tf.float32, shape=[None, 10])\n",
        "\n",
        "# first convolutional layer 1@28x28,f:5x5@32,z:2x2\n",
        "x_image_relu = tf.reshape(x, [-1,28,28,1])\n",
        "x_image_wsgaf = tf.reshape(x, [-1,28,28,1])\n",
        "\n",
        "W_conv1_relu = weight_variable([5, 5, 1, 32])\n",
        "b_conv1_relu = bias_variable([32])\n",
        "\n",
        "W_conv1_wsgaf = weight_variable([5, 5, 1, 32])\n",
        "b_conv1_wsgaf = bias_variable([32])\n",
        "\n",
        "h_conv1_relu = tf.nn.relu(conv2d(x_image_relu, W_conv1_relu, \"h_conv1\") + b_conv1_relu) # 28x28 ---> 28x28\n",
        "h_pool1_relu = max_pool_2x2(h_conv1_relu) # 28x28 ---> 14x14\n",
        "\n",
        "h_conv1_wsgaf = WSGAF(conv2d(x_image_wsgaf, W_conv1_wsgaf, \"h_conv1\") + b_conv1_wsgaf) # 28x28 ---> 28x28\n",
        "h_pool1_wsgaf = max_pool_2x2(h_conv1_wsgaf) # 28x28 ---> 14x14\n",
        "\n",
        "# second convolutional layer 32@14x14,f:5x5@64,z:2x2\n",
        "W_conv2_relu = weight_variable([5, 5, 32, 64])\n",
        "b_conv2_relu = bias_variable([64])\n",
        "\n",
        "W_conv2_wsgaf = weight_variable([5, 5, 32, 64])\n",
        "b_conv2_wsgaf = bias_variable([64])\n",
        "\n",
        "h_conv2_relu = tf.nn.relu(conv2d(h_pool1_relu, W_conv2_relu, \"h_conv2\") + b_conv2_relu) # 14x14 ---> 14x14\n",
        "h_pool2_relu = max_pool_2x2(h_conv2_relu) # 14x14 ---> 7x7\n",
        "\n",
        "h_conv2_wsgaf = WSGAF(conv2d(h_pool1_wsgaf, W_conv2_wsgaf, \"h_conv2\") + b_conv2_wsgaf) # 14x14 ---> 14x14\n",
        "h_pool2_wsgaf = max_pool_2x2(h_conv2_wsgaf) # 14x14 ---> 7x7\n",
        "\n",
        "# TODO: add further convolution layers\n",
        "\n",
        "# fully connected layers\n",
        "W_fc1_relu = weight_variable([7 * 7 * 64, 1024])\n",
        "b_fc1_relu = bias_variable([1024])\n",
        "\n",
        "W_fc1_wsgaf = weight_variable([7 * 7 * 64, 1024])\n",
        "b_fc1_wsgaf = bias_variable([1024])\n",
        "\n",
        "h_pool2_flat_relu = tf.reshape(h_pool2_relu, [-1, 7*7*64])\n",
        "h_fc1_relu = tf.nn.relu(tf.matmul(h_pool2_flat_relu, W_fc1_relu) + b_fc1_relu)\n",
        "\n",
        "h_pool2_flat_wsgaf = tf.reshape(h_pool2_wsgaf, [-1, 7*7*64])\n",
        "h_fc1_wsgaf = WSGAF(tf.matmul(h_pool2_flat_wsgaf, W_fc1_wsgaf) + b_fc1_wsgaf)\n",
        "\n",
        "# dropout before the output layers\n",
        "keep_prob_relu = tf.placeholder(tf.float32)\n",
        "h_fc1_drop_relu = tf.nn.dropout(h_fc1_relu, keep_prob_relu)\n",
        "\n",
        "keep_prob_wsgaf = tf.placeholder(tf.float32)\n",
        "h_fc1_drop_wsgaf = tf.nn.dropout(h_fc1_wsgaf, keep_prob_wsgaf)\n",
        "\n",
        "# output softmax layer\n",
        "W_fc2_relu = weight_variable([1024, 10])\n",
        "b_fc2_relu = bias_variable([10])\n",
        "\n",
        "W_fc2_wsgaf = weight_variable([1024, 10])\n",
        "b_fc2_wsgaf = bias_variable([10])\n",
        "\n",
        "y_conv_relu=tf.nn.softmax(tf.matmul(h_fc1_drop_relu, W_fc2_relu) + b_fc2_relu)\n",
        "y_conv_wsgaf=tf.nn.softmax(tf.matmul(h_fc1_drop_wsgaf, W_fc2_wsgaf) + b_fc2_wsgaf)"
      ],
      "execution_count": 0,
      "outputs": []
    },
    {
      "metadata": {
        "id": "mrgzfljLT6pi",
        "colab_type": "code",
        "colab": {
          "base_uri": "https://localhost:8080/",
          "height": 2222
        },
        "outputId": "041aa6f9-d4d9-447c-93ea-0d26778a8e81"
      },
      "cell_type": "code",
      "source": [
        "# train both models\n",
        "\n",
        "cross_entropy_relu = tf.reduce_mean(-tf.reduce_sum(y_ * tf.log(y_conv_relu), reduction_indices=[1]))\n",
        "train_step_relu = tf.train.AdamOptimizer(0.001).minimize(cross_entropy_relu)\n",
        "correct_prediction_relu = tf.equal(tf.argmax(y_conv_relu,1), tf.argmax(y_,1))\n",
        "accuracy_relu = tf.reduce_mean(tf.cast(correct_prediction_relu, tf.float32))\n",
        "\n",
        "cross_entropy_wsgaf = tf.reduce_mean(-tf.reduce_sum(y_ * tf.log(y_conv_wsgaf), reduction_indices=[1]))\n",
        "train_step_wsgaf = tf.train.AdamOptimizer(0.001).minimize(cross_entropy_wsgaf)\n",
        "correct_prediction_wsgaf = tf.equal(tf.argmax(y_conv_wsgaf,1), tf.argmax(y_,1))\n",
        "accuracy_wsgaf = tf.reduce_mean(tf.cast(correct_prediction_wsgaf, tf.float32))\n",
        "\n",
        "sess.run(tf.global_variables_initializer())\n",
        "batch_counter=0\n",
        "\n",
        "losses_relu = [] # on training data\n",
        "valid_losses_relu = [] # on validation data\n",
        "\n",
        "losses_wsgaf = [] # on training data\n",
        "valid_losses_wsgaf = [] # on validation data\n",
        "step_n = 0\n",
        "\n",
        "for i in range(1000): # TODO: improve training procedure to do multiple epochs instead of only 1000 steps\n",
        "    if i%10 == 0:\n",
        "        train_accuracy_relu = cross_entropy_relu.eval(session=sess, feed_dict={x: x_train_mnist[batch_counter*batch_size:(batch_counter+1)*batch_size], y_: y_train_mnist[batch_counter*batch_size:(batch_counter+1)*batch_size], keep_prob_relu: 1.0})\n",
        "        valid_accuracy_relu = cross_entropy_relu.eval(session=sess, feed_dict={x: x_valid_mnist, y_: y_valid_mnist, keep_prob_relu: 1.0})\n",
        "        \n",
        "        train_accuracy_wsgaf = cross_entropy_wsgaf.eval(session=sess, feed_dict={x: x_train_mnist[batch_counter*batch_size:(batch_counter+1)*batch_size], y_: y_train_mnist[batch_counter*batch_size:(batch_counter+1)*batch_size], keep_prob_wsgaf: 1.0})\n",
        "        valid_accuracy_wsgaf = cross_entropy_wsgaf.eval(session=sess, feed_dict={x: x_valid_mnist, y_: y_valid_mnist, keep_prob_wsgaf: 1.0})\n",
        "        print(\"step %d, RELU: training loss %g, valid loss %g | WSGAF: training loss %g, valid loss %g\" % (i, train_accuracy_relu, valid_accuracy_relu, train_accuracy_wsgaf, valid_accuracy_wsgaf))\n",
        "        \n",
        "        losses_relu.append(train_accuracy_relu)\n",
        "        valid_losses_relu.append(valid_accuracy_relu)\n",
        "        \n",
        "        losses_wsgaf.append(train_accuracy_wsgaf)\n",
        "        valid_losses_wsgaf.append(valid_accuracy_wsgaf)\n",
        "        \n",
        "        step_n = step_n+1\n",
        "    train_step_relu.run(session=sess, feed_dict={x: x_train_mnist[batch_counter*batch_size:(batch_counter+1)*batch_size], y_: y_train_mnist[batch_counter*batch_size:(batch_counter+1)*batch_size], keep_prob_relu: 0.5})\n",
        "    \n",
        "    train_step_wsgaf.run(session=sess, feed_dict={x: x_train_mnist[batch_counter*batch_size:(batch_counter+1)*batch_size], y_: y_train_mnist[batch_counter*batch_size:(batch_counter+1)*batch_size], keep_prob_wsgaf: 0.5})\n",
        "    \n",
        "    batch_counter=batch_counter+1\n",
        "    if (batch_counter*batch_size > len(x_train_mnist)):\n",
        "        batch_counter=0    \n",
        "\n",
        "print(\"test accuracy RELU %g\" % accuracy_relu.eval(session=sess, feed_dict={x: x_test_mnist, y_: y_test_mnist, keep_prob_relu: 1.0}))\n",
        "print(\"test accuracy WSGAF %g\" % accuracy_wsgaf.eval(session=sess, feed_dict={x: x_test_mnist, y_: y_test_mnist, keep_prob_wsgaf: 1.0}))\n",
        "\n",
        "plt.figure(figsize=(10, 5))\n",
        "plt.title('Loss during training')\n",
        "plt.plot(np.arange(step_n), losses_relu, label='ReLU Loss on training data') \n",
        "plt.plot(np.arange(step_n), valid_losses_relu, label='ReLU Loss on validation data')\n",
        "\n",
        "plt.plot(np.arange(step_n), losses_wsgaf, label='WSGAF Loss on training data') \n",
        "plt.plot(np.arange(step_n), valid_losses_wsgaf, label='WSGAF Loss on validation data')\n",
        "plt.legend(loc='upper right')\n",
        "plt.xlabel('Steps')\n",
        "plt.ylabel('y')\n",
        "plt.grid(True)\n",
        "plt.show()"
      ],
      "execution_count": 11,
      "outputs": [
        {
          "output_type": "stream",
          "text": [
            "step 0, RELU: training loss 7.4828, valid loss 7.47191 | WSGAF: training loss 6.15678, valid loss 5.65556\n",
            "step 10, RELU: training loss 1.4917, valid loss 1.42496 | WSGAF: training loss 1.82453, valid loss 1.75541\n",
            "step 20, RELU: training loss 0.654189, valid loss 0.703903 | WSGAF: training loss 0.839007, valid loss 0.878147\n",
            "step 30, RELU: training loss 0.268353, valid loss 0.353754 | WSGAF: training loss 0.506701, valid loss 0.614329\n",
            "step 40, RELU: training loss 0.311251, valid loss 0.262691 | WSGAF: training loss 0.511737, valid loss 0.430176\n",
            "step 50, RELU: training loss 0.263208, valid loss 0.251807 | WSGAF: training loss 0.406118, valid loss 0.425831\n",
            "step 60, RELU: training loss 0.190462, valid loss 0.206426 | WSGAF: training loss 0.405286, valid loss 0.332236\n",
            "step 70, RELU: training loss 0.157991, valid loss 0.189776 | WSGAF: training loss 0.222985, valid loss 0.290912\n",
            "step 80, RELU: training loss 0.254909, valid loss 0.178722 | WSGAF: training loss 0.412616, valid loss 0.322911\n",
            "step 90, RELU: training loss 0.306979, valid loss 0.161535 | WSGAF: training loss 0.553146, valid loss 0.288163\n",
            "step 100, RELU: training loss 0.125015, valid loss 0.149731 | WSGAF: training loss 0.248554, valid loss 0.278704\n",
            "step 110, RELU: training loss 0.120517, valid loss 0.144713 | WSGAF: training loss 0.333052, valid loss 0.254898\n",
            "step 120, RELU: training loss 0.0918609, valid loss 0.123553 | WSGAF: training loss 0.194874, valid loss 0.211175\n",
            "step 130, RELU: training loss 0.185157, valid loss 0.110662 | WSGAF: training loss 0.302519, valid loss 0.213105\n",
            "step 140, RELU: training loss 0.133295, valid loss 0.114472 | WSGAF: training loss 0.179737, valid loss 0.214427\n",
            "step 150, RELU: training loss 0.130664, valid loss 0.106968 | WSGAF: training loss 0.138756, valid loss 0.188408\n",
            "step 160, RELU: training loss 0.0914499, valid loss 0.104403 | WSGAF: training loss 0.175332, valid loss 0.188876\n",
            "step 170, RELU: training loss 0.0331237, valid loss 0.0982753 | WSGAF: training loss 0.0628566, valid loss 0.186505\n",
            "step 180, RELU: training loss 0.115085, valid loss 0.116671 | WSGAF: training loss 0.258278, valid loss 0.192584\n",
            "step 190, RELU: training loss 0.0235608, valid loss 0.0959813 | WSGAF: training loss 0.0813585, valid loss 0.154099\n",
            "step 200, RELU: training loss 0.10184, valid loss 0.0918776 | WSGAF: training loss 0.149991, valid loss 0.150635\n",
            "step 210, RELU: training loss 0.115741, valid loss 0.0847434 | WSGAF: training loss 0.151911, valid loss 0.146719\n",
            "step 220, RELU: training loss 0.0723015, valid loss 0.0972832 | WSGAF: training loss 0.100681, valid loss 0.161658\n",
            "step 230, RELU: training loss 0.0299775, valid loss 0.0857373 | WSGAF: training loss 0.0838948, valid loss 0.158833\n",
            "step 240, RELU: training loss 0.066091, valid loss 0.07993 | WSGAF: training loss 0.133473, valid loss 0.139713\n",
            "step 250, RELU: training loss 0.115136, valid loss 0.078201 | WSGAF: training loss 0.198719, valid loss 0.129969\n",
            "step 260, RELU: training loss 0.0788575, valid loss 0.0786302 | WSGAF: training loss 0.0836613, valid loss 0.130155\n",
            "step 270, RELU: training loss 0.123089, valid loss 0.0852597 | WSGAF: training loss 0.155486, valid loss 0.133849\n",
            "step 280, RELU: training loss 0.059589, valid loss 0.0748726 | WSGAF: training loss 0.124146, valid loss 0.119863\n",
            "step 290, RELU: training loss 0.0365032, valid loss 0.0839473 | WSGAF: training loss 0.116932, valid loss 0.1278\n",
            "step 300, RELU: training loss 0.0958565, valid loss 0.0779437 | WSGAF: training loss 0.140155, valid loss 0.115043\n",
            "step 310, RELU: training loss 0.0724885, valid loss 0.076087 | WSGAF: training loss 0.15196, valid loss 0.121576\n",
            "step 320, RELU: training loss 0.0947923, valid loss 0.0737591 | WSGAF: training loss 0.148197, valid loss 0.126444\n",
            "step 330, RELU: training loss 0.0483981, valid loss 0.0661796 | WSGAF: training loss 0.140043, valid loss 0.116874\n",
            "step 340, RELU: training loss 0.0785024, valid loss 0.0739961 | WSGAF: training loss 0.11471, valid loss 0.134496\n",
            "step 350, RELU: training loss 0.120986, valid loss 0.0761654 | WSGAF: training loss 0.171693, valid loss 0.118738\n",
            "step 360, RELU: training loss 0.102692, valid loss 0.0719949 | WSGAF: training loss 0.129146, valid loss 0.102045\n",
            "step 370, RELU: training loss 0.182385, valid loss 0.0685584 | WSGAF: training loss 0.211871, valid loss 0.106573\n",
            "step 380, RELU: training loss 0.0266819, valid loss 0.0668048 | WSGAF: training loss 0.048022, valid loss 0.107486\n",
            "step 390, RELU: training loss 0.0366196, valid loss 0.0823062 | WSGAF: training loss 0.0543163, valid loss 0.120829\n",
            "step 400, RELU: training loss 0.0117424, valid loss 0.0626316 | WSGAF: training loss 0.0270026, valid loss 0.0980829\n",
            "step 410, RELU: training loss 0.0780877, valid loss 0.0634112 | WSGAF: training loss 0.0816412, valid loss 0.0888126\n",
            "step 420, RELU: training loss 0.129047, valid loss 0.0644363 | WSGAF: training loss 0.121339, valid loss 0.0988951\n",
            "step 430, RELU: training loss 0.0730385, valid loss 0.0770069 | WSGAF: training loss 0.135005, valid loss 0.10166\n",
            "step 440, RELU: training loss 0.117142, valid loss 0.0608135 | WSGAF: training loss 0.219947, valid loss 0.0825956\n",
            "step 450, RELU: training loss 0.0300509, valid loss 0.0598253 | WSGAF: training loss 0.0675568, valid loss 0.0894082\n",
            "step 460, RELU: training loss 0.0716681, valid loss 0.0636832 | WSGAF: training loss 0.195059, valid loss 0.171704\n",
            "step 470, RELU: training loss 0.0919399, valid loss 0.0686921 | WSGAF: training loss 0.150625, valid loss 0.132371\n",
            "step 480, RELU: training loss 0.0531229, valid loss 0.0578248 | WSGAF: training loss 0.0945519, valid loss 0.123331\n",
            "step 490, RELU: training loss 0.0408186, valid loss 0.0558115 | WSGAF: training loss 0.0586208, valid loss 0.0933787\n",
            "step 500, RELU: training loss 0.0680542, valid loss 0.0549906 | WSGAF: training loss 0.137239, valid loss 0.0949665\n",
            "step 510, RELU: training loss 0.0441746, valid loss 0.0550437 | WSGAF: training loss 0.0952019, valid loss 0.0943974\n",
            "step 520, RELU: training loss 0.0281595, valid loss 0.0554789 | WSGAF: training loss 0.0543623, valid loss 0.0753584\n",
            "step 530, RELU: training loss 0.0198386, valid loss 0.0511747 | WSGAF: training loss 0.0384687, valid loss 0.0737685\n",
            "step 540, RELU: training loss 0.0612797, valid loss 0.0534119 | WSGAF: training loss 0.108802, valid loss 0.0849214\n",
            "step 550, RELU: training loss 0.0205397, valid loss 0.0513151 | WSGAF: training loss 0.0308481, valid loss 0.0766662\n",
            "step 560, RELU: training loss 0.0601742, valid loss 0.065309 | WSGAF: training loss 0.0855165, valid loss 0.0760075\n",
            "step 570, RELU: training loss 0.0183293, valid loss 0.0508683 | WSGAF: training loss 0.0540304, valid loss 0.0771566\n",
            "step 580, RELU: training loss 0.00897646, valid loss 0.0569411 | WSGAF: training loss 0.0152804, valid loss 0.0710779\n",
            "step 590, RELU: training loss 0.0366785, valid loss 0.0516315 | WSGAF: training loss 0.0287211, valid loss 0.0776879\n",
            "step 600, RELU: training loss 0.0857459, valid loss 0.0546341 | WSGAF: training loss 0.0974993, valid loss 0.0812859\n",
            "step 610, RELU: training loss 0.0760651, valid loss 0.0516765 | WSGAF: training loss 0.145037, valid loss 0.0768575\n",
            "step 620, RELU: training loss 0.0540857, valid loss 0.0527138 | WSGAF: training loss 0.0809808, valid loss 0.0785857\n",
            "step 630, RELU: training loss 0.0221588, valid loss 0.0492206 | WSGAF: training loss 0.0388798, valid loss 0.0728612\n",
            "step 640, RELU: training loss 0.0255819, valid loss 0.0541848 | WSGAF: training loss 0.0318899, valid loss 0.0802258\n",
            "step 650, RELU: training loss 0.0293647, valid loss 0.052132 | WSGAF: training loss 0.0511153, valid loss 0.0697728\n",
            "step 660, RELU: training loss 0.059547, valid loss 0.0477149 | WSGAF: training loss 0.124628, valid loss 0.0683892\n",
            "step 670, RELU: training loss 0.0555299, valid loss 0.0531541 | WSGAF: training loss 0.0989968, valid loss 0.0750458\n",
            "step 680, RELU: training loss 0.0258665, valid loss 0.0488506 | WSGAF: training loss 0.0372075, valid loss 0.0752352\n",
            "step 690, RELU: training loss 0.0566774, valid loss 0.0527488 | WSGAF: training loss 0.0553074, valid loss 0.0854048\n",
            "step 700, RELU: training loss 0.0760688, valid loss 0.0501169 | WSGAF: training loss 0.100151, valid loss 0.064393\n",
            "step 710, RELU: training loss 0.0567812, valid loss 0.0492622 | WSGAF: training loss 0.119327, valid loss 0.0690079\n",
            "step 720, RELU: training loss 0.0549704, valid loss 0.0475923 | WSGAF: training loss 0.0688104, valid loss 0.0708357\n",
            "step 730, RELU: training loss 0.0458447, valid loss 0.0546506 | WSGAF: training loss 0.0573328, valid loss 0.0762658\n",
            "step 740, RELU: training loss 0.00837077, valid loss 0.0460763 | WSGAF: training loss 0.0350412, valid loss 0.0725896\n",
            "step 750, RELU: training loss 0.0392513, valid loss 0.049672 | WSGAF: training loss 0.0740891, valid loss 0.0705689\n",
            "step 760, RELU: training loss 0.0683403, valid loss 0.0512361 | WSGAF: training loss 0.117181, valid loss 0.0731566\n",
            "step 770, RELU: training loss 0.0275959, valid loss 0.0587835 | WSGAF: training loss 0.051228, valid loss 0.0634013\n",
            "step 780, RELU: training loss 0.0428922, valid loss 0.0545527 | WSGAF: training loss 0.0446177, valid loss 0.0659228\n",
            "step 790, RELU: training loss 0.0419472, valid loss 0.0483432 | WSGAF: training loss 0.0859191, valid loss 0.0613885\n",
            "step 800, RELU: training loss 0.0539805, valid loss 0.0480124 | WSGAF: training loss 0.0472754, valid loss 0.0661904\n",
            "step 810, RELU: training loss 0.0226722, valid loss 0.0555063 | WSGAF: training loss 0.0663354, valid loss 0.0704184\n",
            "step 820, RELU: training loss 0.0931807, valid loss 0.0432002 | WSGAF: training loss 0.155866, valid loss 0.0546472\n",
            "step 830, RELU: training loss 0.0247576, valid loss 0.0513035 | WSGAF: training loss 0.0464769, valid loss 0.0611877\n",
            "step 840, RELU: training loss 0.0154908, valid loss 0.055029 | WSGAF: training loss 0.0227238, valid loss 0.064812\n",
            "step 850, RELU: training loss 0.0586696, valid loss 0.0535599 | WSGAF: training loss 0.114283, valid loss 0.0643711\n",
            "step 860, RELU: training loss 0.0116757, valid loss 0.0434833 | WSGAF: training loss 0.0508254, valid loss 0.0590099\n",
            "step 870, RELU: training loss 0.0398191, valid loss 0.0427954 | WSGAF: training loss 0.0834894, valid loss 0.0633235\n",
            "step 880, RELU: training loss 0.00287033, valid loss 0.0435366 | WSGAF: training loss 0.00944762, valid loss 0.0567248\n",
            "step 890, RELU: training loss 0.0821555, valid loss 0.048056 | WSGAF: training loss 0.120559, valid loss 0.0753775\n",
            "step 900, RELU: training loss 0.00407812, valid loss 0.0453577 | WSGAF: training loss 0.0568521, valid loss 0.0606044\n",
            "step 910, RELU: training loss 0.0734055, valid loss 0.040004 | WSGAF: training loss 0.0810909, valid loss 0.05088\n",
            "step 920, RELU: training loss 0.0270578, valid loss 0.0432384 | WSGAF: training loss 0.0549616, valid loss 0.0604171\n",
            "step 930, RELU: training loss 0.00373103, valid loss 0.0425931 | WSGAF: training loss 0.00832934, valid loss 0.0640682\n",
            "step 940, RELU: training loss 0.00719217, valid loss 0.0462568 | WSGAF: training loss 0.0257211, valid loss 0.059707\n",
            "step 950, RELU: training loss 0.00282768, valid loss 0.042197 | WSGAF: training loss 0.0157772, valid loss 0.0566427\n",
            "step 960, RELU: training loss 0.153617, valid loss 0.0442577 | WSGAF: training loss 0.163386, valid loss 0.0563741\n",
            "step 970, RELU: training loss 0.0203187, valid loss 0.0499759 | WSGAF: training loss 0.0114518, valid loss 0.0710665\n",
            "step 980, RELU: training loss 0.0252049, valid loss 0.0420002 | WSGAF: training loss 0.0326477, valid loss 0.0568553\n",
            "step 990, RELU: training loss 0.0197657, valid loss 0.0487852 | WSGAF: training loss 0.0147495, valid loss 0.0510795\n",
            "test accuracy RELU 0.9866\n",
            "test accuracy WSGAF 0.9837\n"
          ],
          "name": "stdout"
        },
        {
          "output_type": "display_data",
          "data": {
            "image/png": "[encoded data removed]",
            "text/plain": [
              "<matplotlib.figure.Figure at 0x7f6dcce25518>"
            ]
          },
          "metadata": {
            "tags": []
          }
        }
      ]
    },
    {
      "metadata": {
        "id": "h8NOiZYv1lsx",
        "colab_type": "text"
      },
      "cell_type": "markdown",
      "source": [
        "# Inception Resnet V2\n",
        "\n",
        "In the following sections, we implement the training of Inception Resnet V2. Problems arrose when trying to run this on colab, as the model does not fit into the provided resources on colab."
      ]
    },
    {
      "metadata": {
        "id": "npXM5lsoI-Jh",
        "colab_type": "code",
        "colab": {
          "base_uri": "https://localhost:8080/",
          "height": 164
        },
        "outputId": "b1bc3518-b885-42d9-de62-efd1df29a9c0"
      },
      "cell_type": "code",
      "source": [
        "!git clone https://github.com/tensorflow/models/"
      ],
      "execution_count": 13,
      "outputs": [
        {
          "output_type": "stream",
          "text": [
            "Cloning into 'models'...\n",
            "remote: Enumerating objects: 12, done.\u001b[K\n",
            "remote: Counting objects: 100% (12/12), done.\u001b[K\n",
            "remote: Compressing objects: 100% (12/12), done.\u001b[K\n",
            "remote: Total 22544 (delta 0), reused 3 (delta 0), pack-reused 22532\u001b[K\n",
            "Receiving objects: 100% (22544/22544), 559.99 MiB | 27.98 MiB/s, done.\n",
            "Resolving deltas: 100% (13363/13363), done.\n",
            "Checking out files: 100% (2836/2836), done.\n"
          ],
          "name": "stdout"
        }
      ]
    },
    {
      "metadata": {
        "id": "ZUPgvdV9FJOJ",
        "colab_type": "code",
        "colab": {
          "base_uri": "https://localhost:8080/",
          "height": 237
        },
        "outputId": "29478d55-093e-4787-ab1a-54fb287d360e"
      },
      "cell_type": "code",
      "source": [
        "!wget http://download.tensorflow.org/models/inception_resnet_v2_2016_08_30.tar.gz\n",
        "!tar -xvf inception_resnet_v2_2016_08_30.tar.gz"
      ],
      "execution_count": 14,
      "outputs": [
        {
          "output_type": "stream",
          "text": [
            "--2018-11-04 17:50:39--  http://download.tensorflow.org/models/inception_resnet_v2_2016_08_30.tar.gz\n",
            "Resolving download.tensorflow.org (download.tensorflow.org)... 108.177.15.128, 2a00:1450:400c:c00::80\n",
            "Connecting to download.tensorflow.org (download.tensorflow.org)|108.177.15.128|:80... connected.\n",
            "HTTP request sent, awaiting response... 200 OK\n",
            "Length: 220632346 (210M) [application/x-tar]\n",
            "Saving to: ‘inception_resnet_v2_2016_08_30.tar.gz’\n",
            "\n",
            "inception_resnet_v2 100%[===================>] 210.41M  79.5MB/s    in 2.6s    \n",
            "\n",
            "2018-11-04 17:50:42 (79.5 MB/s) - ‘inception_resnet_v2_2016_08_30.tar.gz’ saved [220632346/220632346]\n",
            "\n",
            "inception_resnet_v2_2016_08_30.ckpt\n"
          ],
          "name": "stdout"
        }
      ]
    },
    {
      "metadata": {
        "id": "zUAled6Q-zxV",
        "colab_type": "code",
        "colab": {
          "base_uri": "https://localhost:8080/",
          "height": 219
        },
        "outputId": "967afdc3-bb81-49a2-a180-cda5a76016df"
      },
      "cell_type": "code",
      "source": [
        "!wget https://i.imgur.com/hURWHq0.png"
      ],
      "execution_count": 15,
      "outputs": [
        {
          "output_type": "stream",
          "text": [
            "--2018-11-04 17:50:51--  https://i.imgur.com/hURWHq0.png\n",
            "Resolving i.imgur.com (i.imgur.com)... 151.101.120.193\n",
            "Connecting to i.imgur.com (i.imgur.com)|151.101.120.193|:443... connected.\n",
            "HTTP request sent, awaiting response... 200 OK\n",
            "Length: 243234 (238K) [image/png]\n",
            "Saving to: ‘hURWHq0.png’\n",
            "\n",
            "\rhURWHq0.png           0%[                    ]       0  --.-KB/s               \rhURWHq0.png         100%[===================>] 237.53K  --.-KB/s    in 0.02s   \n",
            "\n",
            "2018-11-04 17:50:51 (10.4 MB/s) - ‘hURWHq0.png’ saved [243234/243234]\n",
            "\n"
          ],
          "name": "stdout"
        }
      ]
    },
    {
      "metadata": {
        "id": "10Dvv-ofJHR1",
        "colab_type": "code",
        "colab": {
          "base_uri": "https://localhost:8080/",
          "height": 182
        },
        "outputId": "2b32a4a8-8e97-420d-faa1-828181fd99f9"
      },
      "cell_type": "code",
      "source": [
        "!ls \"models/research/slim/datasets\""
      ],
      "execution_count": 16,
      "outputs": [
        {
          "output_type": "stream",
          "text": [
            "build_imagenet_data.py\t\t  flowers.py\n",
            "cifar10.py\t\t\t  imagenet_2012_validation_synset_labels.txt\n",
            "dataset_factory.py\t\t  imagenet_lsvrc_2015_synsets.txt\n",
            "dataset_utils.py\t\t  imagenet_metadata.txt\n",
            "download_and_convert_cifar10.py   imagenet.py\n",
            "download_and_convert_flowers.py   __init__.py\n",
            "download_and_convert_imagenet.sh  mnist.py\n",
            "download_and_convert_mnist.py\t  preprocess_imagenet_validation_data.py\n",
            "download_imagenet.sh\t\t  process_bounding_boxes.py\n"
          ],
          "name": "stdout"
        }
      ]
    },
    {
      "metadata": {
        "id": "s57Yb-BNSDir",
        "colab_type": "code",
        "colab": {
          "base_uri": "https://localhost:8080/",
          "height": 72
        },
        "outputId": "14dcd196-0b38-4490-eee6-b7f575184a2e"
      },
      "cell_type": "code",
      "source": [
        "!ls"
      ],
      "execution_count": 17,
      "outputs": [
        {
          "output_type": "stream",
          "text": [
            "hURWHq0.png\t\t\t       models\n",
            "inception_resnet_v2_2016_08_30.ckpt    sample_data\n",
            "inception_resnet_v2_2016_08_30.tar.gz\n"
          ],
          "name": "stdout"
        }
      ]
    },
    {
      "metadata": {
        "id": "mi6A-sYGJO8D",
        "colab_type": "code",
        "colab": {}
      },
      "cell_type": "code",
      "source": [
        "import sys\n",
        "\n",
        "sys.path.append('models/research/slim')\n",
        "from datasets import imagenet"
      ],
      "execution_count": 0,
      "outputs": []
    },
    {
      "metadata": {
        "id": "r7XX-jVjT7MK",
        "colab_type": "code",
        "colab": {
          "base_uri": "https://localhost:8080/",
          "height": 127
        },
        "outputId": "31ea61b9-d7d1-4bdc-89c2-73c2ceb14569"
      },
      "cell_type": "code",
      "source": [
        "# Test Inception ResNet V2 with the pretrained model.\n",
        "\n",
        "import tensorflow as tf\n",
        "import numpy as np\n",
        "import cv2\n",
        "# import from tensorflow models\n",
        "\n",
        "#Load the definitions of Inception-Resnet-v2 architecture\n",
        "import tensorflow.contrib.slim as slim\n",
        "from models.research.slim.nets.inception_resnet_v2 import inception_resnet_v2, inception_resnet_v2_arg_scope\n",
        "\n",
        "\n",
        "#The pretrained model accepts size of 299x299 images\n",
        "HEIGHT = 299\n",
        "WIDTH = 299\n",
        "CHANNELS = 3\n",
        "\n",
        "# Create Graph\n",
        "\n",
        "graph = tf.Graph()\n",
        "with graph.as_default():\n",
        "\n",
        "  # Create a placeholder to pass the input image\n",
        "  img_tensor = tf.placeholder(tf.float32, shape=(None, HEIGHT, WIDTH, CHANNELS))\n",
        "\n",
        "  # Scale the image inputs to {+1, -1} from 0 to 255\n",
        "  img_scaled = tf.scalar_mul((1.0/255), img_tensor)\n",
        "  img_scaled = tf.subtract(img_scaled, 0.5)\n",
        "  img_scaled = tf.multiply(img_scaled, 2.0)\n",
        "\n",
        "  # load Graph definitions\n",
        "  with slim.arg_scope(inception_resnet_v2_arg_scope()):\n",
        "    logits, end_points = inception_resnet_v2(img_scaled, is_training=False)\n",
        "\n",
        "  # predict the class\n",
        "  predictions = end_points['Predictions']\n",
        "\n",
        "#Loading a test image \n",
        "img = cv2.imread('hURWHq0.png')\n",
        "img = cv2.cvtColor(img, cv2.COLOR_BGR2RGB)\n",
        "img = cv2.resize(img, (WIDTH, HEIGHT))\n",
        "\n",
        "# make the input size [BATCH, WIDTH, HEIGHT, CHANNELS] for the network\n",
        "img = np.expand_dims(img, axis=0)\n",
        "\n",
        "#for labels of imagenet \n",
        "sys.path.append('models/research/slim')\n",
        "from datasets import imagenet\n",
        "\n",
        "# Inception resnet v2 model \n",
        "checkpoint_file='inception_resnet_v2_2016_08_30.ckpt'\n",
        "\n",
        "with tf.Session(graph=graph) as sess:\n",
        "  saver = tf.train.Saver()\n",
        "  saver.restore(sess, checkpoint_file)\n",
        "\n",
        "  pred_prob= sess.run(predictions, feed_dict={img_tensor:img})\n",
        "\n",
        "  # Getting the top 5 classes of the imagenet database\n",
        "  probabilities = pred_prob[0, 0:]\n",
        "  sorted_inds = [i[0] for i in sorted(enumerate(-probabilities), key=lambda x:x[1])]\n",
        "\n",
        "  names = imagenet.create_readable_names_for_imagenet_labels()\n",
        "  for i in range(5):\n",
        "    index = sorted_inds[i]\n",
        "    print('Probability %0.2f%% => [%s]' % (probabilities[index], names[index]))\n"
      ],
      "execution_count": 19,
      "outputs": [
        {
          "output_type": "stream",
          "text": [
            "INFO:tensorflow:Restoring parameters from inception_resnet_v2_2016_08_30.ckpt\n",
            "Probability 0.35% => [malinois]\n",
            "Probability 0.20% => [Chesapeake Bay retriever]\n",
            "Probability 0.07% => [kelpie]\n",
            "Probability 0.03% => [tennis ball]\n",
            "Probability 0.03% => [Border terrier]\n"
          ],
          "name": "stdout"
        }
      ]
    },
    {
      "metadata": {
        "id": "ZfNvmuj6sU-u",
        "colab_type": "code",
        "colab": {}
      },
      "cell_type": "code",
      "source": [
        "# Create input for the model, so we can pass the CIFAR-10 images to it\n",
        "\n",
        "\n",
        "import tensorflow as tf\n",
        "import numpy as np\n",
        "import cv2\n",
        "# import from tensorflow models\n",
        "#sys.path.append('/home/vijay/workspace/learning/tensorflow/')\n",
        "\n",
        "#Load the definitions of Inception-Resnet-v2 architecture\n",
        "import tensorflow.contrib.slim as slim\n",
        "from models.research.slim.nets.inception_resnet_v2 import inception_resnet_v2, inception_resnet_v2_arg_scope\n",
        "\n",
        "\n",
        "# CIFAR-10 parameters\n",
        "HEIGHT = 32\n",
        "WIDTH = 32\n",
        "CHANNELS = 3\n",
        "NUM_CLASSES = 10\n",
        "\n",
        "# Create Graph\n",
        "tf.reset_default_graph()\n",
        "graph = tf.Graph()\n",
        "with graph.as_default():\n",
        "\n",
        "  # Create a placeholder to pass the input image\n",
        "  img_tensor = tf.placeholder(tf.float32, shape=(None, HEIGHT, WIDTH, CHANNELS))\n",
        "  y_ = tf.placeholder(tf.float32, shape=[None, 10]) # placeholder for expected output\n",
        "  \n",
        "  # Scale the image inputs to {+1, -1} from 0 to 255\n",
        "  img_scaled = tf.image.resize_images(img_tensor, [299, 299])\n",
        "  img_scaled = tf.scalar_mul((1.0/255), img_scaled)\n",
        "  img_scaled = tf.subtract(img_scaled, 0.5)\n",
        "  img_scaled = tf.multiply(img_scaled, 2.0)\n",
        "\n",
        "  # load Graph definitions\n",
        "  with slim.arg_scope(inception_resnet_v2_arg_scope()):\n",
        "    logits, end_points = inception_resnet_v2(img_scaled, is_training=True, activation_fn=tf.nn.relu, num_classes=NUM_CLASSES) # TODO: train with WSGAF\n",
        "\n",
        "  # predict the class\n",
        "  predictions = end_points['Predictions']\n",
        "\n"
      ],
      "execution_count": 0,
      "outputs": []
    },
    {
      "metadata": {
        "id": "0xwD6gcF2HRM",
        "colab_type": "code",
        "colab": {
          "base_uri": "https://localhost:8080/",
          "height": 2186
        },
        "outputId": "4eb740fc-9ad8-486f-d65f-d4a25ad7cd09"
      },
      "cell_type": "code",
      "source": [
        "# Train the model. Running this block takes about half an hour, and the model barely learns anything.\n",
        "\n",
        "with tf.Session(graph=graph) as sess:\n",
        "  cross_entropy_InceptResnetV2 = tf.reduce_mean(-tf.reduce_sum(y_ * tf.log(predictions), reduction_indices=[1]))\n",
        "  train_step_InceptResnetV2 = tf.train.AdamOptimizer(0.0001).minimize(cross_entropy_InceptResnetV2)\n",
        "  correct_prediction_InceptResnetV2 = tf.equal(tf.argmax(predictions,1), tf.argmax(y_,1))\n",
        "  accuracy_InceptResnetV2 = tf.reduce_mean(tf.cast(correct_prediction_InceptResnetV2, tf.float32))\n",
        "\n",
        "  sess.run(tf.global_variables_initializer())\n",
        "  batch_counter=0\n",
        "\n",
        "  losses_InceptResnetV2 = [] # on training data\n",
        "  valid_losses_InceptResnetV2 = [] # on validation data\n",
        "\n",
        "  step_n = 0\n",
        "  batch_size = 20 # higher batch size causes OOM\n",
        "  run_options = tf.RunOptions(report_tensor_allocations_upon_oom = True)\n",
        "  for i in range(1000):\n",
        "      if i%10 == 0:\n",
        "          train_accuracy_InceptResnetV2 = sess.run(cross_entropy_InceptResnetV2, options=run_options, feed_dict={img_tensor: x_train_cifar10[batch_counter*batch_size:(batch_counter+1)*batch_size], y_: y_train_cifar10[batch_counter*batch_size:(batch_counter+1)*batch_size]})\n",
        "          #valid_accuracy_InceptResnetV2 = sess.run(cross_entropy_InceptResnetV2, options=run_options, feed_dict={img_tensor: [x_valid_cifar10[0]], y_: [y_valid_cifar10[0]]})\n",
        "          valid_accuracy_InceptResnetV2 = 0\n",
        "          \n",
        "          print(\"step %d, InceptResnetV2: training loss %g, valid loss %g\" % (i, train_accuracy_InceptResnetV2, valid_accuracy_InceptResnetV2))\n",
        "        \n",
        "          losses_InceptResnetV2.append(train_accuracy_InceptResnetV2)\n",
        "          valid_losses_InceptResnetV2.append(valid_accuracy_InceptResnetV2)\n",
        "        \n",
        "          step_n = step_n+1\n",
        "      train_step_InceptResnetV2.run(session=sess, feed_dict={img_tensor: x_train_cifar10[batch_counter*batch_size:(batch_counter+1)*batch_size], y_: y_train_cifar10[batch_counter*batch_size:(batch_counter+1)*batch_size]})\n",
        "    \n",
        "      batch_counter=batch_counter+1\n",
        "      if (batch_counter*batch_size > len(x_train_cifar10)):\n",
        "          batch_counter=0    \n",
        "\n",
        "  #print(\"test accuracy InceptResnetV2 %g\" % sess.run(accuracy_InceptResnetV2, options=run_options, feed_dict={img_tensor: x_test_cifar10, y_: y_test_cifar10}))\n",
        "\n",
        "  plt.figure(figsize=(10, 5))\n",
        "  plt.title('Loss during training')\n",
        "  plt.plot(np.arange(step_n), losses_InceptResnetV2, label='InceptResnetV2 Loss on training data') \n",
        "  plt.plot(np.arange(step_n), valid_losses_InceptResnetV2, label='InceptResnetV2 Loss on validation data')\n",
        "\n",
        "  plt.legend(loc='upper right')\n",
        "  plt.xlabel('Epochs')\n",
        "  plt.ylabel('y')\n",
        "  plt.grid(True)\n",
        "  plt.show()\n",
        "  \n",
        "  "
      ],
      "execution_count": 16,
      "outputs": [
        {
          "output_type": "stream",
          "text": [
            "step 0, InceptResnetV2: training loss 2.36691, valid loss 0\n",
            "step 10, InceptResnetV2: training loss 2.13512, valid loss 0\n",
            "step 20, InceptResnetV2: training loss 2.64583, valid loss 0\n",
            "step 30, InceptResnetV2: training loss 1.8317, valid loss 0\n",
            "step 40, InceptResnetV2: training loss 2.60748, valid loss 0\n",
            "step 50, InceptResnetV2: training loss 2.29106, valid loss 0\n",
            "step 60, InceptResnetV2: training loss 1.76627, valid loss 0\n",
            "step 70, InceptResnetV2: training loss 1.73564, valid loss 0\n",
            "step 80, InceptResnetV2: training loss 1.88556, valid loss 0\n",
            "step 90, InceptResnetV2: training loss 1.83872, valid loss 0\n",
            "step 100, InceptResnetV2: training loss 2.24818, valid loss 0\n",
            "step 110, InceptResnetV2: training loss 1.873, valid loss 0\n",
            "step 120, InceptResnetV2: training loss 2.03488, valid loss 0\n",
            "step 130, InceptResnetV2: training loss 1.58578, valid loss 0\n",
            "step 140, InceptResnetV2: training loss 1.33415, valid loss 0\n",
            "step 150, InceptResnetV2: training loss 2.08669, valid loss 0\n",
            "step 160, InceptResnetV2: training loss 1.85131, valid loss 0\n",
            "step 170, InceptResnetV2: training loss 1.94444, valid loss 0\n",
            "step 180, InceptResnetV2: training loss 1.45171, valid loss 0\n",
            "step 190, InceptResnetV2: training loss 1.64903, valid loss 0\n",
            "step 200, InceptResnetV2: training loss 1.62641, valid loss 0\n",
            "step 210, InceptResnetV2: training loss 1.51119, valid loss 0\n",
            "step 220, InceptResnetV2: training loss 1.55345, valid loss 0\n",
            "step 230, InceptResnetV2: training loss 1.19403, valid loss 0\n",
            "step 240, InceptResnetV2: training loss 1.4724, valid loss 0\n",
            "step 250, InceptResnetV2: training loss 1.60669, valid loss 0\n",
            "step 260, InceptResnetV2: training loss 1.40859, valid loss 0\n",
            "step 270, InceptResnetV2: training loss 1.80056, valid loss 0\n",
            "step 280, InceptResnetV2: training loss 1.15584, valid loss 0\n",
            "step 290, InceptResnetV2: training loss 1.60951, valid loss 0\n",
            "step 300, InceptResnetV2: training loss 1.31532, valid loss 0\n",
            "step 310, InceptResnetV2: training loss 2.30659, valid loss 0\n",
            "step 320, InceptResnetV2: training loss 1.72135, valid loss 0\n",
            "step 330, InceptResnetV2: training loss 1.9839, valid loss 0\n",
            "step 340, InceptResnetV2: training loss 1.13469, valid loss 0\n",
            "step 350, InceptResnetV2: training loss 1.55929, valid loss 0\n",
            "step 360, InceptResnetV2: training loss 2.00747, valid loss 0\n",
            "step 370, InceptResnetV2: training loss 1.3725, valid loss 0\n",
            "step 380, InceptResnetV2: training loss 1.37503, valid loss 0\n",
            "step 390, InceptResnetV2: training loss 1.74938, valid loss 0\n",
            "step 400, InceptResnetV2: training loss 1.94817, valid loss 0\n",
            "step 410, InceptResnetV2: training loss 1.24374, valid loss 0\n",
            "step 420, InceptResnetV2: training loss 1.34683, valid loss 0\n",
            "step 430, InceptResnetV2: training loss 1.22579, valid loss 0\n",
            "step 440, InceptResnetV2: training loss 1.40908, valid loss 0\n",
            "step 450, InceptResnetV2: training loss 2.01034, valid loss 0\n",
            "step 460, InceptResnetV2: training loss 1.40664, valid loss 0\n",
            "step 470, InceptResnetV2: training loss 1.46414, valid loss 0\n",
            "step 480, InceptResnetV2: training loss 1.67934, valid loss 0\n",
            "step 490, InceptResnetV2: training loss 1.09718, valid loss 0\n",
            "step 500, InceptResnetV2: training loss 1.39337, valid loss 0\n",
            "step 510, InceptResnetV2: training loss 1.6868, valid loss 0\n",
            "step 520, InceptResnetV2: training loss 1.21156, valid loss 0\n",
            "step 530, InceptResnetV2: training loss 1.57806, valid loss 0\n",
            "step 540, InceptResnetV2: training loss 1.29455, valid loss 0\n",
            "step 550, InceptResnetV2: training loss 1.60437, valid loss 0\n",
            "step 560, InceptResnetV2: training loss 1.2866, valid loss 0\n",
            "step 570, InceptResnetV2: training loss 1.02663, valid loss 0\n",
            "step 580, InceptResnetV2: training loss 1.60798, valid loss 0\n",
            "step 590, InceptResnetV2: training loss 1.162, valid loss 0\n",
            "step 600, InceptResnetV2: training loss 1.57296, valid loss 0\n",
            "step 610, InceptResnetV2: training loss 1.26159, valid loss 0\n",
            "step 620, InceptResnetV2: training loss 1.44456, valid loss 0\n",
            "step 630, InceptResnetV2: training loss 1.64413, valid loss 0\n",
            "step 640, InceptResnetV2: training loss 1.58046, valid loss 0\n",
            "step 650, InceptResnetV2: training loss 1.97733, valid loss 0\n",
            "step 660, InceptResnetV2: training loss 1.52336, valid loss 0\n",
            "step 670, InceptResnetV2: training loss 1.49937, valid loss 0\n",
            "step 680, InceptResnetV2: training loss 1.30668, valid loss 0\n",
            "step 690, InceptResnetV2: training loss 1.34336, valid loss 0\n",
            "step 700, InceptResnetV2: training loss 1.27963, valid loss 0\n",
            "step 710, InceptResnetV2: training loss 0.966308, valid loss 0\n",
            "step 720, InceptResnetV2: training loss 1.64179, valid loss 0\n",
            "step 730, InceptResnetV2: training loss 1.17003, valid loss 0\n",
            "step 740, InceptResnetV2: training loss 1.27864, valid loss 0\n",
            "step 750, InceptResnetV2: training loss 0.825067, valid loss 0\n",
            "step 760, InceptResnetV2: training loss 1.73154, valid loss 0\n",
            "step 770, InceptResnetV2: training loss 1.52865, valid loss 0\n",
            "step 780, InceptResnetV2: training loss 1.62049, valid loss 0\n",
            "step 790, InceptResnetV2: training loss 1.33101, valid loss 0\n",
            "step 800, InceptResnetV2: training loss 1.65379, valid loss 0\n",
            "step 810, InceptResnetV2: training loss 1.7109, valid loss 0\n",
            "step 820, InceptResnetV2: training loss 1.1258, valid loss 0\n",
            "step 830, InceptResnetV2: training loss 1.50137, valid loss 0\n",
            "step 840, InceptResnetV2: training loss 1.43181, valid loss 0\n",
            "step 850, InceptResnetV2: training loss 0.935021, valid loss 0\n",
            "step 860, InceptResnetV2: training loss 1.07285, valid loss 0\n",
            "step 870, InceptResnetV2: training loss 1.58704, valid loss 0\n",
            "step 880, InceptResnetV2: training loss 1.00937, valid loss 0\n",
            "step 890, InceptResnetV2: training loss 0.853752, valid loss 0\n",
            "step 900, InceptResnetV2: training loss 1.22474, valid loss 0\n",
            "step 910, InceptResnetV2: training loss 1.17376, valid loss 0\n",
            "step 920, InceptResnetV2: training loss 1.06358, valid loss 0\n",
            "step 930, InceptResnetV2: training loss 1.15824, valid loss 0\n",
            "step 940, InceptResnetV2: training loss 0.803226, valid loss 0\n",
            "step 950, InceptResnetV2: training loss 0.988144, valid loss 0\n",
            "step 960, InceptResnetV2: training loss 1.28022, valid loss 0\n",
            "step 970, InceptResnetV2: training loss 0.526045, valid loss 0\n",
            "step 980, InceptResnetV2: training loss 1.25211, valid loss 0\n",
            "step 990, InceptResnetV2: training loss 1.08891, valid loss 0\n"
          ],
          "name": "stdout"
        },
        {
          "output_type": "display_data",
          "data": {
            "image/png": "[encoded data removed]",
            "text/plain": [
              "<matplotlib.figure.Figure at 0x7f43b8922978>"
            ]
          },
          "metadata": {
            "tags": []
          }
        }
      ]
    }
  ]
}